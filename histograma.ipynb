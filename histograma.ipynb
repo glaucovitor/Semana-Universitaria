{
 "cells": [
  {
   "cell_type": "code",
   "execution_count": 1,
   "metadata": {},
   "outputs": [
    {
     "ename": "error",
     "evalue": "OpenCV(4.2.0) C:\\projects\\opencv-python\\opencv\\modules\\imgproc\\src\\histogram.cpp:160: error: (-215:Assertion failed) j < nimages in function 'cv::histPrepareImages'\n",
     "output_type": "error",
     "traceback": [
      "\u001b[1;31m---------------------------------------------------------------------------\u001b[0m",
      "\u001b[1;31merror\u001b[0m                                     Traceback (most recent call last)",
      "\u001b[1;32m<ipython-input-1-f4d79a767692>\u001b[0m in \u001b[0;36m<module>\u001b[1;34m\u001b[0m\n\u001b[0;32m     43\u001b[0m     \u001b[0mplt\u001b[0m\u001b[1;33m.\u001b[0m\u001b[0mshow\u001b[0m\u001b[1;33m(\u001b[0m\u001b[1;33m)\u001b[0m\u001b[1;33m\u001b[0m\u001b[1;33m\u001b[0m\u001b[0m\n\u001b[0;32m     44\u001b[0m \u001b[1;33m\u001b[0m\u001b[0m\n\u001b[1;32m---> 45\u001b[1;33m \u001b[0mimgA\u001b[0m \u001b[1;33m=\u001b[0m \u001b[0mcomputarHistograma\u001b[0m\u001b[1;33m(\u001b[0m\u001b[1;34m'ceu.jpg'\u001b[0m\u001b[1;33m)\u001b[0m\u001b[1;33m\u001b[0m\u001b[1;33m\u001b[0m\u001b[0m\n\u001b[0m\u001b[0;32m     46\u001b[0m \u001b[0mimgB\u001b[0m \u001b[1;33m=\u001b[0m \u001b[0mcomputarHistograma\u001b[0m\u001b[1;33m(\u001b[0m\u001b[1;34m'lena.jpg'\u001b[0m\u001b[1;33m)\u001b[0m\u001b[1;33m\u001b[0m\u001b[1;33m\u001b[0m\u001b[0m\n\u001b[0;32m     47\u001b[0m \u001b[0mimgC\u001b[0m \u001b[1;33m=\u001b[0m \u001b[0mcomputarHistograma\u001b[0m\u001b[1;33m(\u001b[0m\u001b[1;34m'paris.jpg'\u001b[0m\u001b[1;33m)\u001b[0m\u001b[1;33m\u001b[0m\u001b[1;33m\u001b[0m\u001b[0m\n",
      "\u001b[1;32m<ipython-input-1-f4d79a767692>\u001b[0m in \u001b[0;36mcomputarHistograma\u001b[1;34m(filename)\u001b[0m\n\u001b[0;32m     12\u001b[0m     \u001b[0mimg\u001b[0m \u001b[1;33m=\u001b[0m \u001b[0mcv2\u001b[0m\u001b[1;33m.\u001b[0m\u001b[0mimread\u001b[0m\u001b[1;33m(\u001b[0m\u001b[0mfilename\u001b[0m\u001b[1;33m)\u001b[0m\u001b[1;33m\u001b[0m\u001b[1;33m\u001b[0m\u001b[0m\n\u001b[0;32m     13\u001b[0m     \u001b[0mhistograma_B\u001b[0m \u001b[1;33m=\u001b[0m \u001b[0mcv2\u001b[0m\u001b[1;33m.\u001b[0m\u001b[0mcalcHist\u001b[0m\u001b[1;33m(\u001b[0m\u001b[1;33m[\u001b[0m\u001b[0mimg\u001b[0m\u001b[1;33m]\u001b[0m\u001b[1;33m,\u001b[0m\u001b[1;33m[\u001b[0m\u001b[1;36m0\u001b[0m\u001b[1;33m]\u001b[0m\u001b[1;33m,\u001b[0m \u001b[1;32mNone\u001b[0m\u001b[1;33m,\u001b[0m \u001b[1;33m[\u001b[0m\u001b[1;36m256\u001b[0m\u001b[1;33m]\u001b[0m\u001b[1;33m,\u001b[0m \u001b[1;33m[\u001b[0m\u001b[1;36m0\u001b[0m\u001b[1;33m,\u001b[0m\u001b[1;36m255\u001b[0m\u001b[1;33m]\u001b[0m\u001b[1;33m)\u001b[0m\u001b[1;33m\u001b[0m\u001b[1;33m\u001b[0m\u001b[0m\n\u001b[1;32m---> 14\u001b[1;33m     \u001b[0mhistograma_G\u001b[0m \u001b[1;33m=\u001b[0m \u001b[0mcv2\u001b[0m\u001b[1;33m.\u001b[0m\u001b[0mcalcHist\u001b[0m\u001b[1;33m(\u001b[0m\u001b[1;33m[\u001b[0m\u001b[0mimg\u001b[0m\u001b[1;33m]\u001b[0m\u001b[1;33m,\u001b[0m\u001b[1;33m[\u001b[0m\u001b[1;36m1\u001b[0m\u001b[1;33m]\u001b[0m\u001b[1;33m,\u001b[0m \u001b[1;32mNone\u001b[0m\u001b[1;33m,\u001b[0m \u001b[1;33m[\u001b[0m\u001b[1;36m256\u001b[0m\u001b[1;33m]\u001b[0m\u001b[1;33m,\u001b[0m \u001b[1;33m[\u001b[0m\u001b[1;36m0\u001b[0m\u001b[1;33m,\u001b[0m\u001b[1;36m255\u001b[0m\u001b[1;33m]\u001b[0m\u001b[1;33m)\u001b[0m\u001b[1;33m\u001b[0m\u001b[1;33m\u001b[0m\u001b[0m\n\u001b[0m\u001b[0;32m     15\u001b[0m     \u001b[0mhistograma_R\u001b[0m \u001b[1;33m=\u001b[0m \u001b[0mcv2\u001b[0m\u001b[1;33m.\u001b[0m\u001b[0mcalcHist\u001b[0m\u001b[1;33m(\u001b[0m\u001b[1;33m[\u001b[0m\u001b[0mimg\u001b[0m\u001b[1;33m]\u001b[0m\u001b[1;33m,\u001b[0m\u001b[1;33m[\u001b[0m\u001b[1;36m2\u001b[0m\u001b[1;33m]\u001b[0m\u001b[1;33m,\u001b[0m \u001b[1;32mNone\u001b[0m\u001b[1;33m,\u001b[0m \u001b[1;33m[\u001b[0m\u001b[1;36m256\u001b[0m\u001b[1;33m]\u001b[0m\u001b[1;33m,\u001b[0m \u001b[1;33m[\u001b[0m\u001b[1;36m0\u001b[0m\u001b[1;33m,\u001b[0m\u001b[1;36m255\u001b[0m\u001b[1;33m]\u001b[0m\u001b[1;33m)\u001b[0m\u001b[1;33m\u001b[0m\u001b[1;33m\u001b[0m\u001b[0m\n\u001b[0;32m     16\u001b[0m \u001b[1;33m\u001b[0m\u001b[0m\n",
      "\u001b[1;31merror\u001b[0m: OpenCV(4.2.0) C:\\projects\\opencv-python\\opencv\\modules\\imgproc\\src\\histogram.cpp:160: error: (-215:Assertion failed) j < nimages in function 'cv::histPrepareImages'\n"
     ]
    }
   ],
   "source": [
    "import cv2\n",
    "import numpy as np\n",
    "from matplotlib import pyplot as plt\n",
    "\n",
    "\n",
    "def normalizar(A):\n",
    "    A = (A - np.amin(A))/ (np.amax(A) - np.amin(A))\n",
    "    return A\n",
    "\n",
    "\n",
    "def computarHistograma(filename):\n",
    "    img = cv2.imread(filename)\n",
    "    histograma_B = cv2.calcHist([img],[0], None, [256], [0,255])\n",
    "    histograma_G = cv2.calcHist([img],[1], None, [256], [0,255])\n",
    "    histograma_R = cv2.calcHist([img],[2], None, [256], [0,255])\n",
    "\n",
    "    histograma_B = normalizar(histograma_B)\n",
    "    histograma_G = normalizar(histograma_G)\n",
    "    histograma_R = normalizar(histograma_R)\n",
    "    \n",
    "    return (histograma_B, histograma_G, histograma_R)\n",
    "\n",
    "\n",
    "def distance(A, B):\n",
    "    soma = 0\n",
    "    for i in range(len(A)):\n",
    "        soma = soma + (A[i]-B[i])**2\n",
    "    return np.sqrt(soma)\n",
    "\n",
    "\n",
    "def similaridade(HistA, HistB):\n",
    "    dB = distance(HistA[0], HistB[0])\n",
    "    dG = distance(HistA[1], HistB[1])\n",
    "    dR = distance(HistA[2], HistB[2])\n",
    "    \n",
    "    return (dB+dG+dR)/3\n",
    "\n",
    "\n",
    "def plotarHistogramas(Hist):\n",
    "    plt.plot(Hist[0], color = 'b')\n",
    "    plt.plot(Hist[1], color = 'g')\n",
    "    plt.plot(Hist[2], color = 'r')\n",
    "    plt.show()\n",
    "\n",
    "imgA = computarHistograma('ceu.jpg')\n",
    "imgB = computarHistograma('lena.jpg')\n",
    "imgC = computarHistograma('paris.jpg')\n",
    "\n",
    "\n",
    "dAB = similaridade(imgA, imgB)\n",
    "print('a distancia da imagem A para a imagem B é: ', dAB)\n",
    "\n",
    "dAC = similaridade(imgA, imgC)\n",
    "print('a distancia da imagem A para a imagem C é: ', dAC)\n",
    "\n",
    "if(dAB < dAC):\n",
    "    print('a imagem A é mais similar à imagem B')\n",
    "else:\n",
    "    print('a imagem A é mais similar à imagem C')\n",
    "\n",
    "plotarHistogramas(imgA)\n",
    "plotarHistogramas(imgB)\n",
    "plotarHistogramas(imgC)"
   ]
  },
  {
   "cell_type": "code",
   "execution_count": null,
   "metadata": {},
   "outputs": [],
   "source": []
  }
 ],
 "metadata": {
  "kernelspec": {
   "display_name": "Python 3",
   "language": "python",
   "name": "python3"
  },
  "language_info": {
   "codemirror_mode": {
    "name": "ipython",
    "version": 3
   },
   "file_extension": ".py",
   "mimetype": "text/x-python",
   "name": "python",
   "nbconvert_exporter": "python",
   "pygments_lexer": "ipython3",
   "version": "3.7.6"
  }
 },
 "nbformat": 4,
 "nbformat_minor": 4
}
