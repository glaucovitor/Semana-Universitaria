{
 "cells": [
  {
   "cell_type": "code",
   "execution_count": 1,
   "metadata": {},
   "outputs": [
    {
     "name": "stdout",
     "output_type": "stream",
     "text": [
      "Versão da OpenCV:  4.2.0\n",
      "\n"
     ]
    }
   ],
   "source": [
    "#verificando a versão da biblioteca OpenCV\n",
    "import cv2\n",
    "print('Versão da OpenCV: ', cv2.__version__, end='\\n\\n')\n",
    "from matplotlib.pyplot import imshow\n",
    "import numpy as np\n",
    "%matplotlib inline"
   ]
  },
  {
   "cell_type": "code",
   "execution_count": null,
   "metadata": {},
   "outputs": [],
   "source": [
    "#lendo e exibindo uma imagem\n",
    "\n",
    "import cv2\n",
    "import matplotlib.pyplot as plt\n",
    "\n",
    "img = cv2.imread('lena.jpg')\n",
    "\n",
    "plt.imshow(img)"
   ]
  },
  {
   "cell_type": "code",
   "execution_count": null,
   "metadata": {},
   "outputs": [],
   "source": [
    "#lendo e exibindo uma imagem na cor original\n",
    "import cv2\n",
    "import matplotlib.pyplot as plt\n",
    "\n",
    "img = cv2.imread('lena.jpg')\n",
    "\n",
    "plt.imshow(img[:,:,::-1])"
   ]
  },
  {
   "cell_type": "code",
   "execution_count": null,
   "metadata": {},
   "outputs": [],
   "source": [
    "#capturando as dimensões da imagem\n",
    "M, N, c = img.shape\n",
    "print('qtde de linhas: ', M)\n",
    "print('qtde de colunas: ', N)\n",
    "print('qtde de canais de cores: ', c)"
   ]
  },
  {
   "cell_type": "code",
   "execution_count": null,
   "metadata": {},
   "outputs": [],
   "source": [
    "azul = img[10,20,0]\n",
    "verde = img[10,20,1]\n",
    "vermelho = img[10,20,2]\n",
    "print(\"o pixel [10,20] tem os valores: \\n R = {} G = {} B = {}\".format(verde, azul, vermelho))"
   ]
  },
  {
   "cell_type": "code",
   "execution_count": null,
   "metadata": {},
   "outputs": [],
   "source": [
    "B = img[:,:,0]\n",
    "G = img[:,:,1]\n",
    "R = img[:,:,2]\n",
    "\n",
    "plt.gray()\n",
    "plt.imshow(R)\n",
    "plt.show()\n",
    "plt.imshow(G)\n",
    "plt.show()\n",
    "plt.imshow(B)\n"
   ]
  },
  {
   "cell_type": "code",
   "execution_count": null,
   "metadata": {},
   "outputs": [],
   "source": [
    "B,G,R = cv2.split(img)\n",
    "\n",
    "plt.gray()\n",
    "plt.imshow(R)\n",
    "plt.show()\n",
    "plt.imshow(G)\n",
    "plt.show()\n",
    "plt.imshow(B)"
   ]
  },
  {
   "cell_type": "code",
   "execution_count": null,
   "metadata": {},
   "outputs": [],
   "source": []
  }
 ],
 "metadata": {
  "kernelspec": {
   "display_name": "Python 3",
   "language": "python",
   "name": "python3"
  },
  "language_info": {
   "codemirror_mode": {
    "name": "ipython",
    "version": 3
   },
   "file_extension": ".py",
   "mimetype": "text/x-python",
   "name": "python",
   "nbconvert_exporter": "python",
   "pygments_lexer": "ipython3",
   "version": "3.7.6"
  }
 },
 "nbformat": 4,
 "nbformat_minor": 4
}
